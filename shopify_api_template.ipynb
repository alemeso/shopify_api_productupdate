{
 "cells": [
  {
   "cell_type": "code",
   "execution_count": null,
   "metadata": {},
   "outputs": [],
   "source": []
  },
  {
   "cell_type": "code",
   "execution_count": 1,
   "metadata": {},
   "outputs": [],
   "source": [
    "import pandas as pd\n",
    "import shopify\n",
    "import os\n",
    "import boto3\n",
    "import io\n",
    "import numpy as np\n",
    "import requests"
   ]
  },
  {
   "cell_type": "code",
   "execution_count": 28,
   "metadata": {},
   "outputs": [],
   "source": [
    "import binascii"
   ]
  },
  {
   "cell_type": "code",
   "execution_count": 20,
   "metadata": {},
   "outputs": [],
   "source": [
    "endpoint='count.json'"
   ]
  },
  {
   "cell_type": "code",
   "execution_count": 22,
   "metadata": {},
   "outputs": [
    {
     "name": "stdout",
     "output_type": "stream",
     "text": [
      "<function get_products at 0x0000013BCDEEE950>\n"
     ]
    }
   ],
   "source": [
    "def get_products():\n",
    "    endpoint = 'count.json'\n",
    "    r = requests.get(url + endpoint)\n",
    "    return r.json()\n",
    "\n",
    "print(get_products)"
   ]
  },
  {
   "cell_type": "code",
   "execution_count": 30,
   "metadata": {},
   "outputs": [],
   "source": [
    "shop_url=\"shop-urk\"\n",
    "API_KEY=\"b235e*******************\"\n",
    "API_SECRET=\"fd968c0****************\"\n",
    "access_token=\"shpat_93633************\"\n",
    "api_version = '2022-10'\n",
    "url = 'shopurl*******************'\n",
    "urlorders=\"**/draft_orders.json\""
   ]
  },
  {
   "cell_type": "code",
   "execution_count": 25,
   "metadata": {},
   "outputs": [],
   "source": [
    "shopify.Session.setup(api_key=API_KEY, secret=API_SECRET)"
   ]
  },
  {
   "cell_type": "code",
   "execution_count": 31,
   "metadata": {},
   "outputs": [],
   "source": [
    "state = binascii.b2a_hex(os.urandom(15)).decode(\"utf-8\")\n",
    "redirect_uri = \"http://myapp.com/auth/shopify/callback\"\n",
    "scopes = ['read_products', 'read_orders']\n",
    "\n",
    "newSession = shopify.Session(shop_url, api_version)\n",
    "auth_url = newSession.create_permission_url(scopes, redirect_uri, state)"
   ]
  },
  {
   "cell_type": "code",
   "execution_count": 33,
   "metadata": {},
   "outputs": [
    {
     "data": {
      "text/plain": [
       "'{\"data\":{\"shop\":{\"name\":\"Big Bat Box\",\"id\":\"gid:\\\\/\\\\/shopify\\\\/Shop\\\\/204472339\"}},\"extensions\":{\"cost\":{\"requestedQueryCost\":1,\"actualQueryCost\":1,\"throttleStatus\":{\"maximumAvailable\":1000.0,\"currentlyAvailable\":999,\"restoreRate\":50.0}}}}'"
      ]
     },
     "execution_count": 33,
     "metadata": {},
     "output_type": "execute_result"
    }
   ],
   "source": [
    "shopify.GraphQL().execute(\"{ shop { name id } }\")"
   ]
  },
  {
   "cell_type": "code",
   "execution_count": 4,
   "metadata": {},
   "outputs": [],
   "source": [
    "\n",
    "session = shopify.Session(shop_url, api_version, access_token)\n",
    "shopify.ShopifyResource.activate_session(session)\n",
    "#shopify.ShopifyResource.clear_session()\n",
    "shop = shopify.Shop.current() # Get the current shop"
   ]
  },
  {
   "cell_type": "code",
   "execution_count": 7,
   "metadata": {},
   "outputs": [
    {
     "ename": "SyntaxError",
     "evalue": "invalid syntax (328821456.py, line 1)",
     "output_type": "error",
     "traceback": [
      "\u001b[1;36m  Input \u001b[1;32mIn [7]\u001b[1;36m\u001b[0m\n\u001b[1;33m    jason=\u001b[0m\n\u001b[1;37m          ^\u001b[0m\n\u001b[1;31mSyntaxError\u001b[0m\u001b[1;31m:\u001b[0m invalid syntax\n"
     ]
    }
   ],
   "source": [
    "\n",
    "{\n",
    "    \"draft_order\": {\n",
    "        \"line_items\": [{\n",
    "            \"variant_id\": 6748035874897, #triple chambar black\n",
    "            \"quantity\": 1\n",
    "        }]\n",
    "    }\n",
    "}"
   ]
  },
  {
   "cell_type": "code",
   "execution_count": 5,
   "metadata": {},
   "outputs": [
    {
     "ename": "SyntaxError",
     "evalue": "invalid syntax (3311371026.py, line 2)",
     "output_type": "error",
     "traceback": [
      "\u001b[1;36m  Input \u001b[1;32mIn [5]\u001b[1;36m\u001b[0m\n\u001b[1;33m    const draft_order = new shopify.rest.DraftOrder({session: session});\u001b[0m\n\u001b[1;37m          ^\u001b[0m\n\u001b[1;31mSyntaxError\u001b[0m\u001b[1;31m:\u001b[0m invalid syntax\n"
     ]
    }
   ],
   "source": [
    "# Session is built by the OAuth process\n",
    "const draft_order = new shopify.rest.DraftOrder({session: session});\n",
    "draft_order.line_items = [\n",
    "  {\n",
    "    \"title\": \"Custom Tee\",\n",
    "    \"price\": \"20.00\",\n",
    "    \"quantity\": 2\n",
    "  }\n",
    "];\n",
    "draft_order.applied_discount = {\n",
    "  \"description\": \"Custom discount\",\n",
    "  \"value_type\": \"fixed_amount\",\n",
    "  \"value\": \"10.0\",\n",
    "  \"amount\": \"10.00\",\n",
    "  \"title\": \"Custom\"\n",
    "};\n",
    "draft_order.customer = {\n",
    "  \"id\": 207119551\n",
    "};\n",
    "draft_order.use_customer_default_address = true;\n",
    "await draft_order.save({\n",
    "  update: true,\n",
    "});"
   ]
  }
 ],
 "metadata": {
  "kernelspec": {
   "display_name": "Python 3",
   "language": "python",
   "name": "python3"
  },
  "language_info": {
   "codemirror_mode": {
    "name": "ipython",
    "version": 3
   },
   "file_extension": ".py",
   "mimetype": "text/x-python",
   "name": "python",
   "nbconvert_exporter": "python",
   "pygments_lexer": "ipython3",
   "version": "3.10.6 (tags/v3.10.6:9c7b4bd, Aug  1 2022, 21:53:49) [MSC v.1932 64 bit (AMD64)]"
  },
  "orig_nbformat": 4,
  "vscode": {
   "interpreter": {
    "hash": "5be8a320f8f7cc2c8800160c073c156794fd2ca3c4eef10b479b149f405f6be6"
   }
  }
 },
 "nbformat": 4,
 "nbformat_minor": 2
}
